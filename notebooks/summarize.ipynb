{
 "cells": [
  {
   "cell_type": "markdown",
   "metadata": {},
   "source": [
    "```\n",
    "     ___    ______                           __    ___ \n",
    "    /   |  / ____/________ _____ ___  ____  / /__ |__ \n",
    "   / /| | / /_  / ___/ __ `/ __ `__ \\/ __ \\/ / _ \\__/ /\n",
    "  / ___ |/ __/ (__  ) /_/ / / / / / / /_/ / /  __/ __/ \n",
    " /_/  |_/_/   /____/\\__,_/_/ /_/ /_/ .___/_/\\___/____/ \n",
    "                                  /_/                  \n",
    "```\n",
    "\n",
    "This notebook serves as a summary and reproducibility record for all plots generated for the AFsample2 manuscript.\n",
    "\n",
    "see article (preprint) [AFsample2: Predicting multiple conformations and ensembles with AlphaFold2](https://www.biorxiv.org/content/10.1101/2024.05.28.596195v1)  \n",
    "\n",
    "<sup><sub>ASCII art generated with https://patorjk.com/software/taag/</sub></sup>"
   ]
  },
  {
   "cell_type": "markdown",
   "metadata": {},
   "source": [
    "## Moved to the following location\n",
    "https://github.com/iamysk/AFsample2/blob/main/notebooks/reproduce_figures.ipynb"
   ]
  }
 ],
 "metadata": {
  "kernelspec": {
   "display_name": "barebones",
   "language": "python",
   "name": "python3"
  },
  "language_info": {
   "codemirror_mode": {
    "name": "ipython",
    "version": 3
   },
   "file_extension": ".py",
   "mimetype": "text/x-python",
   "name": "python",
   "nbconvert_exporter": "python",
   "pygments_lexer": "ipython3",
   "version": "3.10.16"
  }
 },
 "nbformat": 4,
 "nbformat_minor": 2
}
